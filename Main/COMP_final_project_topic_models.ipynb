{
  "nbformat": 4,
  "nbformat_minor": 0,
  "metadata": {
    "colab": {
      "name": "COMP_final_project_topic_models.ipynb",
      "provenance": [],
      "collapsed_sections": []
    },
    "kernelspec": {
      "name": "python3",
      "display_name": "Python 3"
    },
    "language_info": {
      "name": "python"
    },
    "accelerator": "GPU"
  },
  "cells": [
    {
      "cell_type": "code",
      "source": [
        "from google.colab import drive\n",
        "drive.mount('/content/drive')"
      ],
      "metadata": {
        "id": "YPuUYE5pUOTQ"
      },
      "execution_count": null,
      "outputs": []
    },
    {
      "cell_type": "code",
      "execution_count": null,
      "metadata": {
        "id": "mmY79gL1rXvV"
      },
      "outputs": [],
      "source": [
        "import os\n",
        "import time\n",
        "import numpy as np\n",
        "import string\n",
        "!pip install octis\n",
        "import matplotlib.pyplot as plt\n",
        "from octis.optimization.optimizer import Optimizer\n",
        "from skopt.space.space import Real, Categorical, Integer\n",
        "from octis.preprocessing.preprocessing import Preprocessing\n",
        "from octis.evaluation_metrics.coherence_metrics import Coherence\n",
        "from octis.evaluation_metrics.similarity_metrics import RBO\n",
        "from octis.evaluation_metrics.classification_metrics import F1Score\n",
        "from octis.evaluation_metrics.diversity_metrics import TopicDiversity"
      ]
    },
    {
      "cell_type": "code",
      "source": [
        "# here is octis source file:\n",
        "# /usr/local/lib/python3.7/dist-packages/octis/"
      ],
      "metadata": {
        "id": "OU9o6rrhbHqx"
      },
      "execution_count": 3,
      "outputs": []
    },
    {
      "cell_type": "code",
      "source": [
        "os.chdir(os.path.pardir)\n",
        "\n",
        "# Initialize preprocessing\n",
        "preprocessor = Preprocessing(vocabulary=None, max_features=None,\n",
        "                             remove_punctuation=True, punctuation=string.punctuation,\n",
        "                             lemmatize=True, stopword_list='english')\n",
        "# preprocess\n",
        "dataset = preprocessor.preprocess_dataset(documents_path='/content/drive/MyDrive/NLP_final_project/output_type_2_w_shuffle.csv')\n",
        "# dataset = preprocessor.preprocess_dataset(documents_path='/content/output_type_2_w_shuffle.csv')\n",
        "\n",
        "# save the preprocessed dataset\n",
        "dataset.save('/content/drive/MyDrive/NLP_final_project/dataset')"
      ],
      "metadata": {
        "colab": {
          "base_uri": "https://localhost:8080/"
        },
        "id": "vySkDS9JtUUD",
        "outputId": "458cea39-ea44-4d2c-ccad-55b3e9da118d"
      },
      "execution_count": 4,
      "outputs": [
        {
          "output_type": "stream",
          "name": "stdout",
          "text": [
            "created vocab\n",
            "3079\n"
          ]
        }
      ]
    },
    {
      "cell_type": "code",
      "source": [
        "print(\"number of error messages:\", len(dataset._Dataset__corpus))\n",
        "print(\"vocabulary size:\", len(dataset._Dataset__vocabulary))"
      ],
      "metadata": {
        "colab": {
          "base_uri": "https://localhost:8080/"
        },
        "id": "7TnNReq-vknX",
        "outputId": "b664667d-1f24-4618-e0a2-814d6301296a"
      },
      "execution_count": 5,
      "outputs": [
        {
          "output_type": "stream",
          "name": "stdout",
          "text": [
            "number of error messages: 7821\n",
            "vocabulary size: 3079\n"
          ]
        }
      ]
    },
    {
      "cell_type": "markdown",
      "source": [
        "**Work with data**"
      ],
      "metadata": {
        "id": "eLGGuxBf5MeO"
      }
    },
    {
      "cell_type": "code",
      "source": [
        "import pandas as pd\n",
        "df = pd.read_csv('/content/drive/MyDrive/NLP_final_project/dataset/corpus.tsv', sep=\"\\t\", header=None)\n",
        "df.tail()"
      ],
      "metadata": {
        "id": "WqH7CdLCfDlj"
      },
      "execution_count": null,
      "outputs": []
    },
    {
      "cell_type": "code",
      "source": [
        "print(df[1] == \"test\")"
      ],
      "metadata": {
        "id": "_C6j_UZSjdUw"
      },
      "execution_count": null,
      "outputs": []
    },
    {
      "cell_type": "code",
      "source": [
        "total_dataset = df.shape[0]"
      ],
      "metadata": {
        "id": "WaeGPU4dgzrb"
      },
      "execution_count": null,
      "outputs": []
    },
    {
      "cell_type": "code",
      "source": [
        "train = df[df[1] == \"train\"].shape[0]\n",
        "test = df[df[1] == \"test\"].shape[0]"
      ],
      "metadata": {
        "id": "PV9OyB_5ghWp"
      },
      "execution_count": null,
      "outputs": []
    },
    {
      "cell_type": "code",
      "source": [
        "print(\"train: \", train/total_dataset)\n",
        "print(\"test: \", test/total_dataset)\n",
        "print(\"valid: \", 1 - ((train+test)/total_dataset))\n",
        "\n",
        "# TODO: change the code of OCTIS to get the train and test set as you want - 80, 10, 10"
      ],
      "metadata": {
        "id": "sw4jagBMg4NP"
      },
      "execution_count": null,
      "outputs": []
    },
    {
      "cell_type": "markdown",
      "source": [
        "**First model - LDA**"
      ],
      "metadata": {
        "id": "86LpScgp6kpg"
      }
    },
    {
      "cell_type": "code",
      "source": [
        "# initialize the model for hyperparameter tuning\n",
        "from octis.models.LDA import LDA\n",
        "model_lda = LDA(num_topics=10)"
      ],
      "metadata": {
        "id": "V3PjXpKwvmCG"
      },
      "execution_count": 6,
      "outputs": []
    },
    {
      "cell_type": "code",
      "source": [
        "trained_model = model_lda.train_model(dataset)"
      ],
      "metadata": {
        "id": "Fe1XT0E_yook"
      },
      "execution_count": null,
      "outputs": []
    },
    {
      "cell_type": "markdown",
      "source": [
        "Optimize the model"
      ],
      "metadata": {
        "id": "K6x-H0lwJAZQ"
      }
    },
    {
      "cell_type": "code",
      "source": [
        "# select the evaluation metric of optimization\n",
        "cv = Coherence(texts=dataset.get_corpus(), measure='c_v')"
      ],
      "metadata": {
        "id": "y5MApHUbBVMN"
      },
      "execution_count": null,
      "outputs": []
    },
    {
      "cell_type": "code",
      "source": [
        "optimization_runs=50\n",
        "model_runs=5"
      ],
      "metadata": {
        "id": "Ikec5ZkfBbTA"
      },
      "execution_count": null,
      "outputs": []
    },
    {
      "cell_type": "code",
      "source": [
        "# search space for doing the experiments for optimization\n",
        "search_space = {\n",
        "                \"num_topics\": Integer(2, 50),\n",
        "                \"alpha\": Real(0.01, 2),\n",
        "                \"eta\": Real(0.01, 2)\n",
        "}"
      ],
      "metadata": {
        "id": "mOrb4gB4BKD3"
      },
      "execution_count": null,
      "outputs": []
    },
    {
      "cell_type": "code",
      "source": [
        "import time\n",
        "start = time.time()\n",
        "optimizer=Optimizer()\n",
        "optimization_result = optimizer.optimize(\n",
        "    model_lda, dataset, cv, search_space, number_of_call=optimization_runs, \n",
        "    model_runs=model_runs, save_models=True, \n",
        "    extra_metrics=None, # to keep track of other metrics\n",
        "    save_path='/content/results/test_lda/')\n",
        "end = time.time()\n",
        "print('Optimizing model took: ' + str(round(end - start)) + ' seconds.')"
      ],
      "metadata": {
        "id": "tUXEdgY-BNkz"
      },
      "execution_count": null,
      "outputs": []
    },
    {
      "cell_type": "code",
      "source": [
        "# save the results of the optimization\n",
        "optimization_result.save_to_csv(\"/content/drive/MyDrive/NLP_final_project/optimize_lda_main.csv\")"
      ],
      "metadata": {
        "id": "OfOdhblQCmnY"
      },
      "execution_count": null,
      "outputs": []
    },
    {
      "cell_type": "markdown",
      "source": [
        "Run the model with the best optimization metric"
      ],
      "metadata": {
        "id": "ZtRiEGqPJ2Y0"
      }
    },
    {
      "cell_type": "code",
      "source": [
        "model_lda_best = LDA(num_topics=34, alpha=0.31, eta=1.6)"
      ],
      "metadata": {
        "id": "2qRdHFNUJxDJ"
      },
      "execution_count": 10,
      "outputs": []
    },
    {
      "cell_type": "code",
      "source": [
        "# run everything for multiple times\n",
        "cv_array, div_array, rbo_array = [], [], []\n",
        "for i in range(10):\n",
        "    output_lda = model_lda_best.train_model(dataset)\n",
        "    cv = Coherence(texts=dataset.get_corpus(),topk=10, measure='c_v')\n",
        "    diversity = TopicDiversity(topk=10) \n",
        "    rbo = RBO(topk=10)\n",
        "\n",
        "    cv_array.append(cv.score(output_lda)) \n",
        "    div_array.append(diversity.score(output_lda))\n",
        "    rbo_array.append(rbo.score(output_lda))"
      ],
      "metadata": {
        "id": "0EAbHGCVL4WY"
      },
      "execution_count": 64,
      "outputs": []
    },
    {
      "cell_type": "code",
      "source": [
        "cv = np.array(cv_array)\n",
        "div = np.array(div_array)\n",
        "rbo = np.array(rbo_array)\n",
        "\n",
        "print(cv.mean(), cv.std())\n",
        "print(div.mean(), div.std())\n",
        "print(rbo.mean(), rbo.std())"
      ],
      "metadata": {
        "colab": {
          "base_uri": "https://localhost:8080/"
        },
        "id": "2elRIaQVOTnD",
        "outputId": "f6e0de43-30aa-45dc-8cbf-c5c23cd5bcef"
      },
      "execution_count": 47,
      "outputs": [
        {
          "output_type": "stream",
          "name": "stdout",
          "text": [
            "0.4070959700629769 0.017289014919732774\n",
            "0.585 0.018899204501667474\n",
            "0.053088893524229706 0.010771979477750878\n"
          ]
        }
      ]
    },
    {
      "cell_type": "code",
      "source": [
        "output_lda = model_lda_best.train_model(dataset)"
      ],
      "metadata": {
        "id": "JsPjD80hTcfl"
      },
      "execution_count": 11,
      "outputs": []
    },
    {
      "cell_type": "code",
      "source": [
        "cv = Coherence(texts=dataset.get_corpus(),topk=10, measure='c_v')\n",
        "npmi = Coherence(texts=dataset.get_corpus(),topk=10, measure='c_npmi')\n",
        "print(\"Coherence - cv: \" + str(cv.score(output_lda)))\n",
        "print(\"Coherence - npmi: \" + str(npmi.score(output_lda)))"
      ],
      "metadata": {
        "id": "fijyGTUZTkBf"
      },
      "execution_count": null,
      "outputs": []
    },
    {
      "cell_type": "code",
      "source": [
        "diversity = TopicDiversity(topk=10) \n",
        "print(\"Diversity: \" + str(diversity.score(output_lda)))"
      ],
      "metadata": {
        "id": "jM-HlNhxL7t6"
      },
      "execution_count": null,
      "outputs": []
    },
    {
      "cell_type": "code",
      "source": [
        "rbo = RBO(topk=10)\n",
        "print(\"RBO Score: \" + str(rbo.score(output_lda)))"
      ],
      "metadata": {
        "id": "ITwU-3f3P7ly"
      },
      "execution_count": null,
      "outputs": []
    },
    {
      "cell_type": "markdown",
      "source": [
        "Coherence: 0.4070959700629769 - 0.017289014919732774\n",
        "\n",
        "Diversity: 0.585 - 0.018899204501667474\n",
        "\n",
        "Similiarity: 0.053088893524229706 - 0.010771979477750878\n"
      ],
      "metadata": {
        "id": "dzrWws_7A57H"
      }
    },
    {
      "cell_type": "markdown",
      "source": [
        "Work with the result"
      ],
      "metadata": {
        "id": "RX6qqXgAAcGZ"
      }
    },
    {
      "cell_type": "code",
      "source": [
        "print(*list(output_lda.keys()), sep=\"\\n\")"
      ],
      "metadata": {
        "id": "coSJsNgM0bYi"
      },
      "execution_count": null,
      "outputs": []
    },
    {
      "cell_type": "code",
      "source": [
        "# most repeated words in each topic\n",
        "# QUESTION: how to write \"topic NUMBER\" before each sentence?\n",
        "for topic in output_lda['topics']:\n",
        "    print(\" \".join(topic))"
      ],
      "metadata": {
        "id": "BZWcLmDUzcME"
      },
      "execution_count": null,
      "outputs": []
    },
    {
      "cell_type": "code",
      "source": [
        "# all the probabilities of test set on each topic\n",
        "out = output_lda[\"test-topic-document-matrix\"].transpose()\n",
        "print(out.shape)\n",
        "numpy.savetxt(\"/content/lda_probabilities.csv\", out, delimiter=\",\")"
      ],
      "metadata": {
        "id": "apdCAS3aXf9D"
      },
      "execution_count": null,
      "outputs": []
    },
    {
      "cell_type": "code",
      "source": [
        "print(out)"
      ],
      "metadata": {
        "id": "6ZDgmcY4beOm"
      },
      "execution_count": null,
      "outputs": []
    },
    {
      "cell_type": "code",
      "source": [
        "# Question: How to get the test sentences from this dataset? (I think they are not in the dataset - where are they?) - to append to the results of probabilities\n",
        "for att in dir(dataset):\n",
        "    print (att, getattr(dataset,att))"
      ],
      "metadata": {
        "id": "gGdGKnWnZ312"
      },
      "execution_count": null,
      "outputs": []
    },
    {
      "cell_type": "code",
      "source": [
        "trained_model[\"topics\"][192]"
      ],
      "metadata": {
        "id": "raMwHbVDyidD"
      },
      "execution_count": null,
      "outputs": []
    },
    {
      "cell_type": "code",
      "source": [
        "numpy.argmax(trained_model['test-topic-document-matrix'].T[401])"
      ],
      "metadata": {
        "id": "6GtlqsFqz_jf"
      },
      "execution_count": null,
      "outputs": []
    },
    {
      "cell_type": "code",
      "source": [
        "dicc = {}\n",
        "for i in range(len(trained_model['test-topic-document-matrix'])):\n",
        "    count = []\n",
        "    for indx in range(len(trained_model['test-topic-document-matrix'].T)):\n",
        "        if numpy.argmax(trained_model['test-topic-document-matrix'].T[indx]) == i:\n",
        "            count.append(indx)\n",
        "    if count != 0:\n",
        "        dicc[i] = count\n",
        "dicc"
      ],
      "metadata": {
        "id": "v2Uwy8c-zTPQ"
      },
      "execution_count": null,
      "outputs": []
    },
    {
      "cell_type": "markdown",
      "source": [
        "**Second model - CTM (ZeroShotTm)**"
      ],
      "metadata": {
        "id": "yIKJf5VPhViX"
      }
    },
    {
      "cell_type": "code",
      "source": [
        "# initialize the model for hyperparameter tuning\n",
        "from octis.models.CTM import CTM"
      ],
      "metadata": {
        "id": "_rUFOEDxcRBe"
      },
      "execution_count": 50,
      "outputs": []
    },
    {
      "cell_type": "code",
      "source": [
        "model_ctm = CTM(num_topics=7)"
      ],
      "metadata": {
        "id": "S5nXma1_idok"
      },
      "execution_count": null,
      "outputs": []
    },
    {
      "cell_type": "markdown",
      "source": [
        "Optimize the model"
      ],
      "metadata": {
        "id": "m2OD8NWaF-Qi"
      }
    },
    {
      "cell_type": "code",
      "source": [
        "cv = Coherence(texts=dataset.get_corpus(), measure='c_v')"
      ],
      "metadata": {
        "id": "VGiP_3OmidsO"
      },
      "execution_count": null,
      "outputs": []
    },
    {
      "cell_type": "code",
      "source": [
        "search_space = {\"num_topics\": Integer(2, 50),\n",
        "                \"num_layers\": Integer(1,5), \n",
        "                \"num_neurons\": Categorical({100, 200, 300}),\n",
        "                \"activation\": Categorical({'sigmoid', 'relu', 'softplus'}), \n",
        "                \"dropout\": Real(0.0, 0.95)}"
      ],
      "metadata": {
        "id": "xsNFg5yPTm42"
      },
      "execution_count": null,
      "outputs": []
    },
    {
      "cell_type": "code",
      "source": [
        "optimization_runs=50\n",
        "model_runs=5"
      ],
      "metadata": {
        "id": "Jo6LT4HSidxd"
      },
      "execution_count": null,
      "outputs": []
    },
    {
      "cell_type": "code",
      "source": [
        "start = time.time()\n",
        "optimizer=Optimizer()\n",
        "optimization_result = optimizer.optimize(\n",
        "    model_ctm, dataset, cv, search_space, number_of_call=optimization_runs, \n",
        "    model_runs=model_runs, save_models=True, \n",
        "    extra_metrics=None, # to keep track of other metrics\n",
        "    save_path='/content/results/test_ctm/')\n",
        "end = time.time()\n",
        "# duration = end - start\n",
        "print('Optimizing model took: ' + str(round(end - start)) + ' seconds.')"
      ],
      "metadata": {
        "id": "99Ad07Paid0X"
      },
      "execution_count": null,
      "outputs": []
    },
    {
      "cell_type": "code",
      "source": [
        "optimization_result.save_to_csv(\"/content/drive/MyDrive/NLP_final_project/optimize_ctm_main.csv\")"
      ],
      "metadata": {
        "id": "AZdIFwuFYJfl"
      },
      "execution_count": null,
      "outputs": []
    },
    {
      "cell_type": "markdown",
      "source": [
        "Run the model with the best optimization metric"
      ],
      "metadata": {
        "id": "v-SuzfLIHkvH"
      }
    },
    {
      "cell_type": "code",
      "source": [
        "model_ctm_best = CTM(num_topics=6, num_layers=1, num_neurons=200, activation='relu', dropout=0.78, bert_model=\"bert-base-nli-mean-tokens\")"
      ],
      "metadata": {
        "id": "_Unmlx1cnEY0"
      },
      "execution_count": 51,
      "outputs": []
    },
    {
      "cell_type": "code",
      "source": [
        "# run everything for multiple times\n",
        "cv_array, div_array, rbo_array = [], [], []\n",
        "for i in range(10):\n",
        "    output_ctm = model_ctm_best.train_model(dataset)\n",
        "    cv = Coherence(texts=dataset.get_corpus(),topk=10, measure='c_v')\n",
        "    diversity = TopicDiversity(topk=10) \n",
        "    rbo = RBO(topk=10)\n",
        "\n",
        "    cv_array.append(cv.score(output_ctm)) \n",
        "    div_array.append(diversity.score(output_ctm))\n",
        "    rbo_array.append(rbo.score(output_ctm))"
      ],
      "metadata": {
        "id": "BLKsc7FHS07E"
      },
      "execution_count": 52,
      "outputs": []
    },
    {
      "cell_type": "code",
      "source": [
        "cv = np.array(cv_array)\n",
        "div = np.array(div_array)\n",
        "rbo = np.array(rbo_array)\n",
        "\n",
        "print(cv.mean(), cv.std())\n",
        "print(div.mean(), div.std())\n",
        "print(rbo.mean(), rbo.std())"
      ],
      "metadata": {
        "colab": {
          "base_uri": "https://localhost:8080/"
        },
        "id": "luD09d_JTVIn",
        "outputId": "7a847b50-7715-4f43-a81d-ec33bc523c5c"
      },
      "execution_count": 53,
      "outputs": [
        {
          "output_type": "stream",
          "name": "stdout",
          "text": [
            "0.53242577972432 0.036130016516643035\n",
            "0.7433333333333334 0.05066228051190223\n",
            "0.12112041673733331 0.046580519435826\n"
          ]
        }
      ]
    },
    {
      "cell_type": "code",
      "source": [
        "output_ctm = model_ctm_best.train_model(dataset)"
      ],
      "metadata": {
        "id": "yIac_TUVIgFu"
      },
      "execution_count": 13,
      "outputs": []
    },
    {
      "cell_type": "code",
      "source": [
        "cv = Coherence(texts=dataset.get_corpus(),topk=10, measure='c_v')\n",
        "npmi = Coherence(texts=dataset.get_corpus(),topk=10, measure='c_npmi')\n",
        "print(\"Coherence - cv: \" + str(cv.score(output_ctm)))\n",
        "print(\"Coherence - npmi: \" + str(npmi.score(output_ctm)))"
      ],
      "metadata": {
        "id": "12QW6QvgnEe1"
      },
      "execution_count": null,
      "outputs": []
    },
    {
      "cell_type": "code",
      "source": [
        "diversity = TopicDiversity(topk=10) \n",
        "print(\"Diversity: \" + str(diversity.score(output_ctm)))"
      ],
      "metadata": {
        "id": "lssmEAE-nEis"
      },
      "execution_count": null,
      "outputs": []
    },
    {
      "cell_type": "code",
      "source": [
        "rbo = RBO(topk=10)\n",
        "print(\"RBO Score: \" + str(rbo.score(output_ctm)))"
      ],
      "metadata": {
        "id": "Cu3mh2O6nEmH"
      },
      "execution_count": null,
      "outputs": []
    },
    {
      "cell_type": "markdown",
      "source": [
        "Coherence: 0.53242577972432 - 0.036130016516643035\n",
        "\n",
        "Diversity: 0.7433333333333334 - 0.05066228051190223\n",
        "\n",
        "Similiarity: 0.12112041673733331 - 0.046580519435826"
      ],
      "metadata": {
        "id": "_YcP51sSJDLO"
      }
    },
    {
      "cell_type": "markdown",
      "source": [
        "Work with the result"
      ],
      "metadata": {
        "id": "YwPDciYsHfx3"
      }
    },
    {
      "cell_type": "code",
      "source": [
        "for topic in output_ctm['topics']:\n",
        "    print(\" \".join(topic))"
      ],
      "metadata": {
        "id": "JZftA_4pKKcw"
      },
      "execution_count": null,
      "outputs": []
    },
    {
      "cell_type": "code",
      "source": [
        "import json\n",
        "res = json.load(open(\"/content/results/test_ctm/result.json\",'r'))\n",
        "res.keys()"
      ],
      "metadata": {
        "id": "ONUuKf9hid8w"
      },
      "execution_count": null,
      "outputs": []
    },
    {
      "cell_type": "code",
      "source": [
        "res['x_iters']['activation']"
      ],
      "metadata": {
        "id": "rY5et-wVid_H"
      },
      "execution_count": null,
      "outputs": []
    },
    {
      "cell_type": "code",
      "source": [
        "res[\"f_val\"]"
      ],
      "metadata": {
        "id": "dcJTZs1jieFD"
      },
      "execution_count": null,
      "outputs": []
    },
    {
      "cell_type": "code",
      "source": [
        "import matplotlib.pyplot as plt\n",
        "\n",
        "plt.plot(res[\"f_val\"])"
      ],
      "metadata": {
        "id": "BpdhQkStnDSj"
      },
      "execution_count": null,
      "outputs": []
    },
    {
      "cell_type": "code",
      "source": [
        "\n",
        "plt.plot(res[\"f_val\"])"
      ],
      "metadata": {
        "id": "eVwW2LQa7MzS"
      },
      "execution_count": null,
      "outputs": []
    },
    {
      "cell_type": "markdown",
      "source": [
        "Third model - NeuralLDA (AVITM)"
      ],
      "metadata": {
        "id": "DlI4RFJm6olT"
      }
    },
    {
      "cell_type": "code",
      "source": [
        "# initialize the model for hyperparameter tuning\n",
        "from octis.models.NeuralLDA import NeuralLDA\n",
        "model_neural_lda = NeuralLDA(num_topics=20)"
      ],
      "metadata": {
        "id": "8nTBY0QIxuab"
      },
      "execution_count": 54,
      "outputs": []
    },
    {
      "cell_type": "code",
      "source": [
        "cv = Coherence(texts=dataset.get_corpus(), measure='c_v')"
      ],
      "metadata": {
        "id": "BRvyU9KN70iJ"
      },
      "execution_count": null,
      "outputs": []
    },
    {
      "cell_type": "markdown",
      "source": [
        "Optimize the model"
      ],
      "metadata": {
        "id": "mld4ZEiQJ7w3"
      }
    },
    {
      "cell_type": "code",
      "source": [
        "optimization_runs=50\n",
        "model_runs=5"
      ],
      "metadata": {
        "id": "F_RWmvx58ONl"
      },
      "execution_count": null,
      "outputs": []
    },
    {
      "cell_type": "code",
      "source": [
        "search_space = {\"num_topics\": Integer(2, 50),\n",
        "                \"num_layers\": Integer(1,5), \n",
        "                \"num_neurons\": Categorical({100, 200, 300}),\n",
        "                \"activation\": Categorical({'sigmoid', 'relu', 'softplus'}), \n",
        "                \"dropout\": Real(0.0, 0.95)}"
      ],
      "metadata": {
        "id": "kVwBgYVmz2uK"
      },
      "execution_count": null,
      "outputs": []
    },
    {
      "cell_type": "code",
      "source": [
        "optimizer=Optimizer()\n",
        "import time\n",
        "start = time.time()\n",
        "optimization_result = optimizer.optimize(\n",
        "    model_neural_lda, dataset, cv, search_space, number_of_call=optimization_runs, \n",
        "    model_runs=model_runs, save_models=True, \n",
        "    extra_metrics=None, # to keep track of other metrics\n",
        "    save_path='results/test_neuralLDA/')\n",
        "end = time.time()\n",
        "duration = end - start\n",
        "optimization_result.save_to_csv(\"results_neuralLDA.csv\")\n",
        "print('Optimizing model took: ' + str(round(duration)) + ' seconds.')"
      ],
      "metadata": {
        "id": "EEnipv9B8TJx"
      },
      "execution_count": null,
      "outputs": []
    },
    {
      "cell_type": "code",
      "source": [
        "optimization_result.save_to_csv(\"/content/drive/MyDrive/NLP_final_project/optimize_neural_lda_main.csv\")"
      ],
      "metadata": {
        "id": "VXl-x4D0nWic"
      },
      "execution_count": null,
      "outputs": []
    },
    {
      "cell_type": "markdown",
      "source": [
        "Run the model with the best optimization metric\n",
        "\n"
      ],
      "metadata": {
        "id": "qBr2rWx3KI62"
      }
    },
    {
      "cell_type": "code",
      "source": [
        "model_neural_lda_best = NeuralLDA(num_topics=40, num_layers=1, num_neurons=200, dropout=0.31)"
      ],
      "metadata": {
        "id": "4IUzZ49bZUNx"
      },
      "execution_count": 55,
      "outputs": []
    },
    {
      "cell_type": "code",
      "source": [
        "# run everything for multiple times\n",
        "cv_array, div_array, rbo_array = [], [], []\n",
        "for i in range(10):\n",
        "    output_neural_lda = model_neural_lda_best.train_model(dataset)\n",
        "    cv = Coherence(texts=dataset.get_corpus(),topk=10, measure='c_v')\n",
        "    diversity = TopicDiversity(topk=10) \n",
        "    rbo = RBO(topk=10)\n",
        "\n",
        "    cv_array.append(cv.score(output_neural_lda)) \n",
        "    div_array.append(diversity.score(output_neural_lda))\n",
        "    rbo_array.append(rbo.score(output_neural_lda))"
      ],
      "metadata": {
        "id": "rklJie2bUvSJ"
      },
      "execution_count": null,
      "outputs": []
    },
    {
      "cell_type": "code",
      "source": [
        "cv = np.array(cv_array)\n",
        "div = np.array(div_array)\n",
        "rbo = np.array(rbo_array)\n",
        "\n",
        "print(cv.mean(), cv.std())\n",
        "print(div.mean(), div.std())\n",
        "print(rbo.mean(), rbo.std())"
      ],
      "metadata": {
        "colab": {
          "base_uri": "https://localhost:8080/"
        },
        "id": "vs7OQ6G5U8QZ",
        "outputId": "4bbec3c8-f548-424d-fa56-e585c72cc617"
      },
      "execution_count": 57,
      "outputs": [
        {
          "output_type": "stream",
          "name": "stdout",
          "text": [
            "0.49216635496634575 0.011462169025774039\n",
            "0.5165 0.04928488612140644\n",
            "0.10039612402271703 0.02029037478683014\n"
          ]
        }
      ]
    },
    {
      "cell_type": "code",
      "source": [
        "output_neural_lda = model_neural_lda_best.train_model(dataset)"
      ],
      "metadata": {
        "id": "8RnDIIuyZUQE"
      },
      "execution_count": null,
      "outputs": []
    },
    {
      "cell_type": "code",
      "source": [
        "cv = Coherence(texts=dataset.get_corpus(),topk=10, measure='c_v')\n",
        "npmi = Coherence(texts=dataset.get_corpus(),topk=10, measure='c_npmi')\n",
        "print(\"Coherence - cv: \" + str(cv.score(output_neural_lda)))\n",
        "print(\"Coherence - npmi: \" + str(npmi.score(output_neural_lda)))"
      ],
      "metadata": {
        "id": "LdYXnDflZUS_"
      },
      "execution_count": null,
      "outputs": []
    },
    {
      "cell_type": "code",
      "source": [
        "diversity = TopicDiversity(topk=10) \n",
        "print(\"Diversity: \" + str(diversity.score(output_neural_lda)))"
      ],
      "metadata": {
        "id": "y3Y774u9ZUVl"
      },
      "execution_count": null,
      "outputs": []
    },
    {
      "cell_type": "code",
      "source": [
        "rbo = RBO(topk=10)\n",
        "print(\"RBO Score: \" + str(rbo.score(output_neural_lda)))"
      ],
      "metadata": {
        "id": "DTh-qVRoKWwP"
      },
      "execution_count": null,
      "outputs": []
    },
    {
      "cell_type": "markdown",
      "source": [
        "Coherence: 0.49216635496634575 - 0.011462169025774039\n",
        "\n",
        "Diversity: 0.5165 - 0.04928488612140644\n",
        "\n",
        "Similiarity: 0.10039612402271703 - 0.02029037478683014\n"
      ],
      "metadata": {
        "id": "Hmxb4FFIK00L"
      }
    },
    {
      "cell_type": "markdown",
      "source": [
        "Fourth model - ETM"
      ],
      "metadata": {
        "id": "FRvOj9MfZU2g"
      }
    },
    {
      "cell_type": "code",
      "source": [
        "# initialize the model for hyperparameter tuning\n",
        "from octis.models.ETM import ETM"
      ],
      "metadata": {
        "id": "1-YS1EqMZUXt"
      },
      "execution_count": 58,
      "outputs": []
    },
    {
      "cell_type": "code",
      "source": [
        "model_etm = ETM(num_topics=7, num_epochs=100)"
      ],
      "metadata": {
        "id": "k8t_Jx3KZWif"
      },
      "execution_count": null,
      "outputs": []
    },
    {
      "cell_type": "markdown",
      "source": [
        "Optimize the model"
      ],
      "metadata": {
        "id": "iV_gGNIuLNDg"
      }
    },
    {
      "cell_type": "code",
      "source": [
        "cv = Coherence(texts=dataset.get_corpus(), measure='c_v')"
      ],
      "metadata": {
        "id": "2swEIp1_ZkV8"
      },
      "execution_count": null,
      "outputs": []
    },
    {
      "cell_type": "code",
      "source": [
        "search_space = {\"num_topics\": Integer(2, 50),\n",
        "                \"num_layers\": Integer(1,5), \n",
        "                \"num_neurons\": Categorical({100, 200, 300}),\n",
        "                \"dropout\": Real(0.0, 0.95)}"
      ],
      "metadata": {
        "id": "KNvWlBgAZzeC"
      },
      "execution_count": null,
      "outputs": []
    },
    {
      "cell_type": "code",
      "source": [
        "optimization_runs=50\n",
        "model_runs=5"
      ],
      "metadata": {
        "id": "48ZzIZR2Z3sE"
      },
      "execution_count": null,
      "outputs": []
    },
    {
      "cell_type": "code",
      "source": [
        "start = time.time()\n",
        "optimizer=Optimizer()\n",
        "optimization_result = optimizer.optimize(\n",
        "    model_etm, dataset, cv, search_space, number_of_call=optimization_runs, \n",
        "    model_runs=model_runs, save_models=True, \n",
        "    extra_metrics=None, # to keep track of other metrics\n",
        "    save_path='/content/results/test_etm/')\n",
        "end = time.time()\n",
        "# duration = end - start\n",
        "print('Optimizing model took: ' + str(round(end - start)) + ' seconds.')"
      ],
      "metadata": {
        "id": "nNs2LgakZ6oq"
      },
      "execution_count": null,
      "outputs": []
    },
    {
      "cell_type": "code",
      "source": [
        "optimization_result.save_to_csv(\"/content/drive/MyDrive/NLP_final_project/optimize_etm_main.csv\")"
      ],
      "metadata": {
        "id": "WeHg-4eqaByr"
      },
      "execution_count": null,
      "outputs": []
    },
    {
      "cell_type": "markdown",
      "source": [
        "Run the model with the best optimization metric\n"
      ],
      "metadata": {
        "id": "lLRzmM-rLo1_"
      }
    },
    {
      "cell_type": "code",
      "source": [
        "model_etm_best = ETM(num_topics=9, t_hidden_size=800, dropout=0.22)"
      ],
      "metadata": {
        "id": "Q_KBfh5paLRJ"
      },
      "execution_count": 59,
      "outputs": []
    },
    {
      "cell_type": "code",
      "source": [
        "# run everything for multiple times\n",
        "cv_array, div_array, rbo_array = [], [], []\n",
        "for i in range(10):\n",
        "    output_etm = model_etm_best.train_model(dataset)\n",
        "    cv = Coherence(texts=dataset.get_corpus(),topk=10, measure='c_v')\n",
        "    diversity = TopicDiversity(topk=10) \n",
        "    rbo = RBO(topk=10)\n",
        "\n",
        "    cv_array.append(cv.score(output_etm)) \n",
        "    div_array.append(diversity.score(output_etm))\n",
        "    rbo_array.append(rbo.score(output_etm))"
      ],
      "metadata": {
        "id": "JuMttoJhVxgo"
      },
      "execution_count": null,
      "outputs": []
    },
    {
      "cell_type": "code",
      "source": [
        "cv = np.array(cv_array)\n",
        "div = np.array(div_array)\n",
        "rbo = np.array(rbo_array)\n",
        "\n",
        "print(cv.mean(), cv.std())\n",
        "print(div.mean(), div.std())\n",
        "print(rbo.mean(), rbo.std())"
      ],
      "metadata": {
        "colab": {
          "base_uri": "https://localhost:8080/"
        },
        "id": "YB5qCYU4V2yn",
        "outputId": "f194ff53-e923-4038-9784-166142ef544b"
      },
      "execution_count": 61,
      "outputs": [
        {
          "output_type": "stream",
          "name": "stdout",
          "text": [
            "0.48171506796524827 0.03765191651048745\n",
            "0.7033333333333334 0.08165721789632502\n",
            "0.1058934925384127 0.05816478179339525\n"
          ]
        }
      ]
    },
    {
      "cell_type": "code",
      "source": [
        "output_etm = model_etm_best.train_model(dataset)"
      ],
      "metadata": {
        "id": "aRK2CwN8Lw5o"
      },
      "execution_count": null,
      "outputs": []
    },
    {
      "cell_type": "code",
      "source": [
        "cv = Coherence(texts=dataset.get_corpus(),topk=10, measure='c_v')\n",
        "npmi = Coherence(texts=dataset.get_corpus(),topk=10, measure='c_npmi')\n",
        "print(\"Coherence - cv: \" + str(cv.score(output_etm)))\n",
        "print(\"Coherence - npmi: \" + str(npmi.score(output_etm)))"
      ],
      "metadata": {
        "id": "muWbB-hILu51"
      },
      "execution_count": null,
      "outputs": []
    },
    {
      "cell_type": "code",
      "source": [
        "diversity = TopicDiversity(topk=10) \n",
        "print(\"Diversity: \" + str(diversity.score(output_etm)))"
      ],
      "metadata": {
        "id": "18PDvkgtLyVA"
      },
      "execution_count": null,
      "outputs": []
    },
    {
      "cell_type": "code",
      "source": [
        "rbo = RBO(topk=10)\n",
        "print(\"RBO Score: \" + str(rbo.score(output_etm)))"
      ],
      "metadata": {
        "id": "ZTaH7gqSLzx7"
      },
      "execution_count": null,
      "outputs": []
    },
    {
      "cell_type": "markdown",
      "source": [
        "Coherence: 0.48171506796524827 - 0.03765191651048745\n",
        "\n",
        "Diversity: 0.7033333333333334 - 0.08165721789632502\n",
        "\n",
        "Similiarity: 0.1058934925384127 - 0.05816478179339525"
      ],
      "metadata": {
        "id": "ColgOw_-N0UZ"
      }
    },
    {
      "cell_type": "markdown",
      "source": [
        "Create multiple visualizations"
      ],
      "metadata": {
        "id": "myPUjDkU5J8i"
      }
    },
    {
      "cell_type": "code",
      "source": [
        "import pandas as pd\n",
        "optimize_neural_lda_result = pd.read_csv('/content/drive/MyDrive/NLP_final_project/optimize_neural_lda_main.csv')\n",
        "optimize_ctm_result = pd.read_csv('/content/drive/MyDrive/NLP_final_project/optimize_ctm_main.csv')\n",
        "optimize_lda_result = pd.read_csv('/content/drive/MyDrive/NLP_final_project/optimize_lda_main.csv')\n",
        "optimize_etm_result = pd.read_csv('/content/drive/MyDrive/NLP_final_project/optimize_etm_main.csv')"
      ],
      "metadata": {
        "id": "JYsS_xNYzy2l"
      },
      "execution_count": 21,
      "outputs": []
    },
    {
      "cell_type": "code",
      "source": [
        "optimize_lda_result['Mean(model_runs)']"
      ],
      "metadata": {
        "id": "cUaFeqxs0qn-"
      },
      "execution_count": null,
      "outputs": []
    },
    {
      "cell_type": "code",
      "source": [
        "fig, axs = plt.subplots(2, 2)\n",
        "axs[0, 0].plot(optimize_lda_result['Mean(model_runs)'])\n",
        "axs[0, 0].set_title('LDA')\n",
        "axs[0, 1].plot(optimize_neural_lda_result['Mean(model_runs)'], 'tab:orange')\n",
        "axs[0, 1].set_title('AVITM')\n",
        "axs[1, 0].plot(optimize_etm_result['Mean(model_runs)'], 'tab:green')\n",
        "axs[1, 0].set_title('ETM')\n",
        "axs[1, 1].plot(optimize_ctm_result['Mean(model_runs)'], 'tab:red')\n",
        "axs[1, 1].set_title('ZeroShotTm')\n",
        "\n",
        "for ax in axs.flat:\n",
        "    ax.set(xlabel='Iteration', ylabel='C_v score')\n",
        "\n",
        "# Hide x labels and tick labels for top plots and y ticks for right plots.\n",
        "for ax in axs.flat:\n",
        "    ax.label_outer()"
      ],
      "metadata": {
        "colab": {
          "base_uri": "https://localhost:8080/",
          "height": 295
        },
        "id": "rfjv5y9L2TIr",
        "outputId": "a23593d3-a9ef-4171-f567-2c12a8674646"
      },
      "execution_count": 47,
      "outputs": [
        {
          "output_type": "display_data",
          "data": {
            "text/plain": [
              "<Figure size 432x288 with 4 Axes>"
            ],
            "image/png": "[encoded data removed]"
          },
          "metadata": {
            "needs_background": "light"
          }
        }
      ]
    },
    {
      "cell_type": "code",
      "source": [
        "fig, axs = plt.subplots(2, 2, sharex='col', sharey='row',\n",
        "                        gridspec_kw={'hspace': 0, 'wspace': 0})\n",
        "(ax1, ax2), (ax3, ax4) = axs\n",
        "fig.suptitle('Sharing x per column, y per row')\n",
        "ax1.plot(optimize_lda_result['Mean(model_runs)'])\n",
        "ax2.plot(optimize_neural_lda_result['Mean(model_runs)'], 'tab:orange')\n",
        "ax3.plot(optimize_etm_result['Mean(model_runs)'], 'tab:green')\n",
        "ax4.plot(optimize_ctm_result['Mean(model_runs)'], 'tab:red')\n",
        "\n",
        "for ax in axs.flat:\n",
        "    ax.label_outer()"
      ],
      "metadata": {
        "colab": {
          "base_uri": "https://localhost:8080/",
          "height": 294
        },
        "id": "B46B8zcD4RKo",
        "outputId": "82540933-e5bf-4028-fecd-4b9e6cb943f4"
      },
      "execution_count": 29,
      "outputs": [
        {
          "output_type": "display_data",
          "data": {
            "text/plain": [
              "<Figure size 432x288 with 4 Axes>"
            ],
            "image/png": "[encoded data removed]"
          },
          "metadata": {
            "needs_background": "light"
          }
        }
      ]
    }
  ]
}